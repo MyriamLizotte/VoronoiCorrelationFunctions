{
 "cells": [
  {
   "cell_type": "code",
   "execution_count": null,
   "metadata": {},
   "outputs": [],
   "source": [
    "#https://hpaulkeeler.com/poisson-point-process-simulation/"
   ]
  },
  {
   "cell_type": "code",
   "execution_count": 2,
   "metadata": {},
   "outputs": [],
   "source": [
    "import numpy as np\n",
    "import scipy.stats\n",
    "import matplotlib.pyplot as plt\n",
    " "
   ]
  },
  {
   "cell_type": "code",
   "execution_count": 3,
   "metadata": {},
   "outputs": [],
   "source": [
    "\n",
    "# #Simulation window parameters\n",
    "\n",
    "# def Poisson_point_process(lambda0=100, xMin=0, xMax=1, yMin=0, yMax=1):\n",
    "#     #intensity (ie mean density) of the Poisson process\n",
    "# # \n",
    "#     xDelta=xMax-xMin;\n",
    "#     yDelta=yMax-yMin; #rectangle dimensions\n",
    "#     areaTotal=xDelta*yDelta;\n",
    "\n",
    "\n",
    "#     # Simulate Poisson point process\n",
    "#     numbPoints = scipy.stats.poisson( lambda0*areaTotal ).rvs()#Poisson number of points\n",
    "#     xx = xDelta*scipy.stats.uniform.rvs(0,1,((numbPoints,1)))+xMin#x coordinates of Poisson points\n",
    "#     yy = yDelta*scipy.stats.uniform.rvs(0,1,((numbPoints,1)))+yMin#y coordinates of Poisson points\n",
    "    \n",
    "#     # Plotting\n",
    "#     plt.scatter(xx,yy, edgecolor='b', facecolor='none', alpha=0.5 )\n",
    "#     plt.xlabel(\"x\"); plt.ylabel(\"y\")\n",
    "    \n",
    "#     return xx, yy"
   ]
  },
  {
   "cell_type": "code",
   "execution_count": null,
   "metadata": {},
   "outputs": [],
   "source": [
    "Poisson_point_process(lambda0=100, xMin=0, xMax=1000, yMin=0, yMax=1000)"
   ]
  }
 ],
 "metadata": {
  "kernelspec": {
   "display_name": "Python 3 (env_pcf)",
   "language": "python",
   "name": "env_pcf"
  },
  "language_info": {
   "codemirror_mode": {
    "name": "ipython",
    "version": 3
   },
   "file_extension": ".py",
   "mimetype": "text/x-python",
   "name": "python",
   "nbconvert_exporter": "python",
   "pygments_lexer": "ipython3",
   "version": "3.10.11"
  }
 },
 "nbformat": 4,
 "nbformat_minor": 4
}
